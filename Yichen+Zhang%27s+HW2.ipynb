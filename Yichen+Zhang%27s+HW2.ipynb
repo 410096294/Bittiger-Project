{
 "cells": [
  {
   "cell_type": "code",
   "execution_count": 4,
   "metadata": {
    "collapsed": true
   },
   "outputs": [],
   "source": [
    "import pandas as pd\n",
    "import numpy as np"
   ]
  },
  {
   "cell_type": "code",
   "execution_count": 22,
   "metadata": {},
   "outputs": [
    {
     "name": "stdout",
     "output_type": "stream",
     "text": [
      "set([1, 2, 3, 4, 5, 6, 7, 8, 43, 45, 542, 645])\n",
      "   Age  Year  student_id\n",
      "1   14     1           1\n",
      "2   12     3           2\n",
      "3   11     2           3\n",
      "4   15     3           4\n",
      "5   13     4           5\n",
      "6   13     1           6\n",
      "7   16     2           7\n"
     ]
    },
    {
     "data": {
      "text/plain": [
       "array([11, 12, 13, 14, 15, 16], dtype=int64)"
      ]
     },
     "execution_count": 22,
     "metadata": {},
     "output_type": "execute_result"
    }
   ],
   "source": [
    "#How do you handle duplicate values in a dataset in Python?\n",
    "\n",
    "#a list\n",
    "a_list = (1,3,2,4,5,6,7,8,3,4,2,1,1,4,45,645,542,1,3,43)\n",
    "b_list = set(a_list)\n",
    "print b_list\n",
    "\n",
    "#numpy array\n",
    "my_array = np.array([1, 2, 2, 4, 5])\n",
    "np.unique(my_array)\n",
    "\n",
    "\n",
    "#a dictionary\n",
    "df = pd.DataFrame(\n",
    "        {\n",
    "            \"student_id\":[1,2,3,4,5,6,7],\n",
    "            \"Year\":[1,3,2,3,4,1,2],\n",
    "            \"Age\":[14,12,11,15,13,13,16]\n",
    "        },\n",
    "    index=[1,2,3,4,5,6,7]\n",
    ")\n",
    "         \n",
    "print df\n",
    "np.unique(df[\"Age\"])\n",
    "\n",
    "          \n",
    "\n",
    "\n"
   ]
  },
  {
   "cell_type": "code",
   "execution_count": 23,
   "metadata": {},
   "outputs": [
    {
     "data": {
      "text/plain": [
       "array([1, 2, 4, 5])"
      ]
     },
     "execution_count": 23,
     "metadata": {},
     "output_type": "execute_result"
    }
   ],
   "source": []
  },
  {
   "cell_type": "code",
   "execution_count": 19,
   "metadata": {
    "collapsed": true
   },
   "outputs": [],
   "source": [
    "\n",
    "#You are given two tables - friend_request and request_accepted. \n",
    "#Friend_request contains requester_id, time and sent_to_id and \n",
    "#request_accepted table contains time, acceptor_id and requestor_id. \n",
    "#How will you determine the overall acceptance rate of requests? \n",
    "\n",
    "#overal acceptance rate= #acceptors/#requestors\n",
    "\n",
    "%SQL:\n",
    "SELECT COUNT(R.ACCEPTOR_ID)/COUNT(F.requester_id) AS the_overall_acceptance_rate_of_requests\n",
    "FROM Friend_request AS F \n",
    "LEFT JOIN Request_accpeted AS R\n",
    "    ON F.requester_id=R.F.requester_id\n",
    "\n",
    "#Python\n",
    "#left join two tables\n",
    "df=pd.merge(Friend_request,Request_accpeted, on='requestor_id', how='left')\n",
    "the_overall_acceptance_rate_of_requests = df['acceptor'].count/df['request_id'].count\n"
   ]
  },
  {
   "cell_type": "code",
   "execution_count": 105,
   "metadata": {},
   "outputs": [],
   "source": [
    "#“Issuer” of a credit card are companies like Visa, Mastercard, American Express. Now we know the following rules:\n",
    "\n",
    "#CC number starts with: '4'\n",
    "#CC len : 16\n",
    "#Issuer: VISA\n",
    "\n",
    "#CC number starts with: '34', '37'\n",
    "#CC len : 15\n",
    "#Issuer : AMEX\n",
    "\n",
    "#CC number starts with: '36'\n",
    "#CC len : 14\n",
    "#Issuer : Diners Club\n",
    "\n",
    "#Credit card number starts with\n",
    "#'4026', '417500', '4405', '4508', '4844',\n",
    "#'4913', '4917'\n",
    "#CC len : 16\n",
    "#Issuer : VISAELECTRON\n",
    "\n",
    "number = np.array([4025003929192939, 4405003929192939, 342503929192939])\n",
    "for i in numbers:\n",
    "    if str(i)[:5] == [4026,4405,4508,4844,4913,4917] or str(i)[:6] == 417500 and len(number)== 16:\n",
    "        print \"VISAELECTRON\"\n",
    "    elif str(i)[0] == 4 and len(number) == 16:\n",
    "        print \"VISA\"\n",
    "    if str(i)[:3] in [34,37] and len(number)== 15:\n",
    "        print \"AMEX\"\n",
    "    if str(i)[:3] == 36 and len(number) == 14:\n",
    "        print \"Diners Club\"\n",
    "        \n",
    "    \n"
   ]
  },
  {
   "cell_type": "code",
   "execution_count": 100,
   "metadata": {},
   "outputs": [],
   "source": [
    "\n",
    "\n",
    "    \n"
   ]
  },
  {
   "cell_type": "code",
   "execution_count": null,
   "metadata": {
    "collapsed": true
   },
   "outputs": [],
   "source": []
  },
  {
   "cell_type": "code",
   "execution_count": null,
   "metadata": {
    "collapsed": true
   },
   "outputs": [],
   "source": []
  }
 ],
 "metadata": {
  "kernelspec": {
   "display_name": "Python 2",
   "language": "python",
   "name": "python2"
  },
  "language_info": {
   "codemirror_mode": {
    "name": "ipython",
    "version": 2
   },
   "file_extension": ".py",
   "mimetype": "text/x-python",
   "name": "python",
   "nbconvert_exporter": "python",
   "pygments_lexer": "ipython2",
   "version": "2.7.13"
  }
 },
 "nbformat": 4,
 "nbformat_minor": 2
}
